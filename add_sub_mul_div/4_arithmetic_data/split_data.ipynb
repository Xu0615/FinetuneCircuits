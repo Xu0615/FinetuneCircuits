{
 "cells": [
  {
   "cell_type": "code",
   "execution_count": null,
   "metadata": {},
   "outputs": [],
   "source": [
    "import pandas as pd\n",
    "from sklearn.model_selection import train_test_split\n",
    "\n",
    "input_file = \"/add_sub_mul_div/4_arithmetic_data/Combined_Arithmetic.csv\"\n",
    "\n",
    "\n",
    "output_file_80 = \"./steps_arithmetic_ft.csv\"\n",
    "output_file_20 = \"./steps_arithmetic_circuit.csv\"\n",
    "\n",
    "data = pd.read_csv(input_file)\n",
    "\n",
    "\n",
    "data_80, data_20 = train_test_split(data, test_size=0.2, random_state=42)\n",
    "\n",
    "data_80.to_csv(output_file_80, index=False)\n",
    "data_20.to_csv(output_file_20, index=False)\n",
    "\n",
    "print(f\"Data split completed. 80% saved to {output_file_80}, 20% saved to {output_file_20}.\")\n"
   ]
  }
 ],
 "metadata": {
  "kernelspec": {
   "display_name": "Python 3",
   "language": "python",
   "name": "python3"
  },
  "language_info": {
   "codemirror_mode": {
    "name": "ipython",
    "version": 3
   },
   "file_extension": ".py",
   "mimetype": "text/x-python",
   "name": "python",
   "nbconvert_exporter": "python",
   "pygments_lexer": "ipython3",
   "version": "3.10.13"
  }
 },
 "nbformat": 4,
 "nbformat_minor": 2
}
