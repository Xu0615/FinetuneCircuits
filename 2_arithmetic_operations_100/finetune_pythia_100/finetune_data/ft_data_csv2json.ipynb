{
 "cells": [
  {
   "cell_type": "code",
   "execution_count": null,
   "metadata": {},
   "outputs": [],
   "source": [
    "import pandas as pd\n",
    "import json\n",
    "\n",
    "def main():\n",
    "    train_csv_path = '/2_arithmetic_operations_100/2_arithmetic_operations_100_data/Add_Sub_100_ft.csv'\n",
    "    test_csv_path = '/2_arithmetic_operations_100/2_arithmetic_operations_100_data/Add_Sub_100_circuit.csv'\n",
    "\n",
    "    train_df = pd.read_csv(train_csv_path)\n",
    "    test_df = pd.read_csv(test_csv_path)\n",
    "\n",
    "    def format_data(df):\n",
    "        formatted_data = []\n",
    "        for _, row in df.iterrows():\n",
    "            input_expression = row['clean'].strip()\n",
    "            output_value = row['label']\n",
    "\n",
    "            if not input_expression.endswith('='):\n",
    "                input_expression += ' ='\n",
    "\n",
    "            instruction = \"\"\n",
    "\n",
    "            formatted_data.append({\n",
    "                \"instruction\": instruction,\n",
    "                \"input\": input_expression,\n",
    "                \"output\": output_value\n",
    "            })\n",
    "        return formatted_data\n",
    "\n",
    "    train_data = format_data(train_df)\n",
    "    test_data = format_data(test_df)\n",
    "\n",
    "    def save_jsonl(data, filename):\n",
    "        with open(filename, 'w', encoding='utf-8') as f:\n",
    "            for entry in data:\n",
    "                json_line = json.dumps(entry, ensure_ascii=False)\n",
    "                f.write(json_line + '\\n')\n",
    "\n",
    "    save_jsonl(train_data, 'train_100.jsonl')\n",
    "    save_jsonl(test_data, 'test_100.jsonl')\n",
    "\n",
    "    print(\"Successfully saved the training set to 'train_100.jsonl' and the test set to 'test_100.jsonl'.\")\n",
    "\n",
    "if __name__ == \"__main__\":\n",
    "    main()"
   ]
  }
 ],
 "metadata": {
  "kernelspec": {
   "display_name": "Python 3",
   "language": "python",
   "name": "python3"
  },
  "language_info": {
   "codemirror_mode": {
    "name": "ipython",
    "version": 3
   },
   "file_extension": ".py",
   "mimetype": "text/x-python",
   "name": "python",
   "nbconvert_exporter": "python",
   "pygments_lexer": "ipython3",
   "version": "3.10.13"
  }
 },
 "nbformat": 4,
 "nbformat_minor": 2
}
