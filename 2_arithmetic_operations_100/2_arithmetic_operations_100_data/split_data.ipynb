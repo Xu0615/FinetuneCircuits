{
 "cells": [
  {
   "cell_type": "code",
   "execution_count": null,
   "metadata": {},
   "outputs": [
    {
     "name": "stdout",
     "output_type": "stream",
     "text": [
      "文件已成功分割并保存为:\n",
      " 80% 文件: ./Add_Sub_100_ft.csv\n",
      " 20% 文件: ./Add_Sub_100_circuit.csv\n"
     ]
    }
   ],
   "source": [
    "import pandas as pd\n",
    "from sklearn.model_selection import train_test_split\n",
    "\n",
    "input_file = \"2_arithmetic_operations_100/2_arithmetic_operations_100_data/Logical_Operations_Add_Sub_100.csv\"\n",
    "\n",
    "output_file_90 = \"./Add_Sub_100_ft.csv\"\n",
    "output_file_10 = \"./Add_Sub_100_circuit.csv\"\n",
    "\n",
    "data = pd.read_csv(input_file)\n",
    "\n",
    "data_90, data_10 = train_test_split(data, test_size=0.1, random_state=42)\n",
    "\n",
    "\n",
    "data_90.to_csv(output_file_90, index=False)\n",
    "data_10.to_csv(output_file_10, index=False)\n",
    "\n",
    "print(f\" 80% : {output_file_90}\\n 20% : {output_file_10}\")\n"
   ]
  }
 ],
 "metadata": {
  "kernelspec": {
   "display_name": "Python 3",
   "language": "python",
   "name": "python3"
  },
  "language_info": {
   "codemirror_mode": {
    "name": "ipython",
    "version": 3
   },
   "file_extension": ".py",
   "mimetype": "text/x-python",
   "name": "python",
   "nbconvert_exporter": "python",
   "pygments_lexer": "ipython3",
   "version": "3.10.13"
  }
 },
 "nbformat": 4,
 "nbformat_minor": 2
}
